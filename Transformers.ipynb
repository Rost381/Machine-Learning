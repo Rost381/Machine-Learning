{
 "cells": [
  {
   "cell_type": "code",
   "execution_count": 1,
   "metadata": {},
   "outputs": [],
   "source": [
    "import numpy as np\n",
    "import pandas as pd\n",
    "\n",
    "from sklearn.preprocessing import OneHotEncoder\n",
    "from sklearn.preprocessing import LabelEncoder\n",
    "from sklearn.preprocessing import LabelBinarizer\n",
    "from sklearn.preprocessing import Normalizer\n",
    "from sklearn.preprocessing import StandardScaler\n",
    "\n",
    "from sklearn.datasets import load_iris"
   ]
  },
  {
   "cell_type": "markdown",
   "metadata": {},
   "source": [
    "<h1>Label Binarizer</h1>"
   ]
  },
  {
   "cell_type": "code",
   "execution_count": 2,
   "metadata": {},
   "outputs": [
    {
     "data": {
      "text/plain": [
       "array([1, 2, 3, 4, 5, 6, 7, 8])"
      ]
     },
     "execution_count": 2,
     "metadata": {},
     "output_type": "execute_result"
    }
   ],
   "source": [
    "label_bin = LabelBinarizer()\n",
    "\n",
    "data = [1, 4, 5, 6, 2, 7, 8, 4, 5, 3, 5]\n",
    "\n",
    "label_bin.fit(data)\n",
    "\n",
    "label_bin.classes_"
   ]
  },
  {
   "cell_type": "code",
   "execution_count": 3,
   "metadata": {},
   "outputs": [
    {
     "data": {
      "text/plain": [
       "array([[0, 0, 0, 0, 1, 0, 0, 0],\n",
       "       [0, 0, 0, 0, 0, 1, 0, 0],\n",
       "       [0, 1, 0, 0, 0, 0, 0, 0],\n",
       "       [0, 0, 1, 0, 0, 0, 0, 0]])"
      ]
     },
     "execution_count": 3,
     "metadata": {},
     "output_type": "execute_result"
    }
   ],
   "source": [
    "data = [5, 6, 2 , 3]\n",
    "\n",
    "label_bin.transform(data)"
   ]
  },
  {
   "cell_type": "markdown",
   "metadata": {},
   "source": [
    "<h1>Label Encoder</h1>"
   ]
  },
  {
   "cell_type": "code",
   "execution_count": 4,
   "metadata": {},
   "outputs": [
    {
     "data": {
      "text/plain": [
       "array([0, 1, 2, 3, 4], dtype=int64)"
      ]
     },
     "execution_count": 4,
     "metadata": {},
     "output_type": "execute_result"
    }
   ],
   "source": [
    "label_enc = LabelEncoder()\n",
    "\n",
    "data = ['label1', 'label2', 'label3', 'label4', 'label5']\n",
    "\n",
    "label_enc.fit_transform(data)"
   ]
  },
  {
   "cell_type": "code",
   "execution_count": 5,
   "metadata": {},
   "outputs": [
    {
     "data": {
      "text/plain": [
       "array(['label1', 'label2', 'label3', 'label4', 'label5'], dtype='<U6')"
      ]
     },
     "execution_count": 5,
     "metadata": {},
     "output_type": "execute_result"
    }
   ],
   "source": [
    "label_enc.classes_"
   ]
  },
  {
   "cell_type": "markdown",
   "metadata": {},
   "source": [
    "  <h1>OneHotEncoder</h1>"
   ]
  },
  {
   "cell_type": "code",
   "execution_count": 6,
   "metadata": {},
   "outputs": [
    {
     "data": {
      "text/plain": [
       "OneHotEncoder(categorical_features=None, categories=None, drop=None,\n",
       "              dtype=<class 'numpy.float64'>, handle_unknown='error',\n",
       "              n_values=None, sparse=False)"
      ]
     },
     "execution_count": 6,
     "metadata": {},
     "output_type": "execute_result"
    }
   ],
   "source": [
    "one_hot_enc = OneHotEncoder(sparse=False)\n",
    "\n",
    "data = np.array(['France', 'Russia', 'USA', 'USA', 'Ukraine', 'Germany']).reshape(-1, 1)\n",
    "\n",
    "one_hot_enc.fit(data)"
   ]
  },
  {
   "cell_type": "code",
   "execution_count": 7,
   "metadata": {},
   "outputs": [
    {
     "data": {
      "text/plain": [
       "array([[1., 0., 0., 0., 0.],\n",
       "       [0., 0., 1., 0., 0.],\n",
       "       [0., 0., 0., 1., 0.]])"
      ]
     },
     "execution_count": 7,
     "metadata": {},
     "output_type": "execute_result"
    }
   ],
   "source": [
    "x = np.array(['France', 'Russia', 'USA']).reshape(-1, 1)\n",
    "\n",
    "one_hot_enc.transform(x)"
   ]
  },
  {
   "cell_type": "markdown",
   "metadata": {},
   "source": [
    "<h1>Standard Scaler & Normalizer</h1>"
   ]
  },
  {
   "cell_type": "code",
   "execution_count": 9,
   "metadata": {},
   "outputs": [
    {
     "name": "stdout",
     "output_type": "stream",
     "text": [
      "Main data\n",
      "   sepal length (cm)  sepal width (cm)  petal length (cm)\n",
      "0                5.1               3.5                1.4\n",
      "1                4.9               3.0                1.4\n",
      "2                4.7               3.2                1.3\n",
      "3                4.6               3.1                1.5\n",
      "4                5.0               3.6                1.4\n",
      "Standarded\n",
      "   sepal length (cm)  sepal width (cm)  petal length (cm)\n",
      "0          -0.900681          1.019004          -1.340227\n",
      "1          -1.143017         -0.131979          -1.340227\n",
      "2          -1.385353          0.328414          -1.397064\n",
      "3          -1.506521          0.098217          -1.283389\n",
      "4          -1.021849          1.249201          -1.340227\n",
      "Normalized\n",
      "   sepal length (cm)  sepal width (cm)  petal length (cm)\n",
      "0           0.804172          0.551883           0.220753\n",
      "1           0.828606          0.507310           0.236745\n",
      "2           0.805806          0.548634           0.222883\n",
      "3           0.800515          0.539477           0.261037\n",
      "4           0.791361          0.569780           0.221581\n"
     ]
    }
   ],
   "source": [
    "scaler = StandardScaler()\n",
    "normalizer = Normalizer()\n",
    "\n",
    "data = load_iris().data[:, :3]\n",
    "columns = load_iris().feature_names[:3]\n",
    "\n",
    "main_df = pd.DataFrame(data[:5], columns=columns)\n",
    "\n",
    "std_data = scaler.fit_transform(data)\n",
    "\n",
    "std_df = pd.DataFrame(std_data[:5], columns=columns)\n",
    "\n",
    "norm_data = normalizer.fit_transform(data)\n",
    "\n",
    "norm_df = pd.DataFrame(norm_data[:5], columns=columns)\n",
    "\n",
    "print('Main data'); print(main_df) \n",
    "print('Standarded'); print(std_df) \n",
    "print('Normalized'); print(norm_df)"
   ]
  },
  {
   "cell_type": "code",
   "execution_count": null,
   "metadata": {},
   "outputs": [],
   "source": []
  }
 ],
 "metadata": {
  "kernelspec": {
   "display_name": "Python 3",
   "language": "python",
   "name": "python3"
  },
  "language_info": {
   "codemirror_mode": {
    "name": "ipython",
    "version": 3
   },
   "file_extension": ".py",
   "mimetype": "text/x-python",
   "name": "python",
   "nbconvert_exporter": "python",
   "pygments_lexer": "ipython3",
   "version": "3.7.3"
  }
 },
 "nbformat": 4,
 "nbformat_minor": 2
}
