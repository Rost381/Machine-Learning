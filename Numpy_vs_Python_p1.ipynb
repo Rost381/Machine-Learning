{
 "cells": [
  {
   "cell_type": "code",
   "execution_count": 1,
   "metadata": {},
   "outputs": [],
   "source": [
    "import time\n",
    "\n",
    "import numpy as np\n",
    "import matplotlib.pyplot as plt"
   ]
  },
  {
   "cell_type": "code",
   "execution_count": 2,
   "metadata": {},
   "outputs": [],
   "source": [
    "def timeit(function, array):\n",
    "    \n",
    "    start = time.time()\n",
    "    result = function(array)\n",
    "    end = time.time()\n",
    "    \n",
    "    return (end - start + 0.01) * 10000"
   ]
  },
  {
   "cell_type": "code",
   "execution_count": 3,
   "metadata": {},
   "outputs": [],
   "source": [
    "python_results = [0, 0, 0, 0, 0]\n",
    "numpy_results = [0, 0, 0, 0, 0]"
   ]
  },
  {
   "cell_type": "code",
   "execution_count": 4,
   "metadata": {},
   "outputs": [
    {
     "data": {
      "text/plain": [
       "array([False, False,  True,  True, False])"
      ]
     },
     "execution_count": 4,
     "metadata": {},
     "output_type": "execute_result"
    }
   ],
   "source": [
    "bool_test_arr = np.random.choice(a=[False, True], size=1000000, p=[.5, .5])\n",
    "bool_test_arr[:5]"
   ]
  },
  {
   "cell_type": "code",
   "execution_count": 5,
   "metadata": {},
   "outputs": [
    {
     "data": {
      "text/plain": [
       "array([65, 76, 10, 70, 20])"
      ]
     },
     "execution_count": 5,
     "metadata": {},
     "output_type": "execute_result"
    }
   ],
   "source": [
    "int_test_arr = np.random.random(1000000).dot(100).astype('int32')\n",
    "int_test_arr[:5]"
   ]
  },
  {
   "cell_type": "code",
   "execution_count": 6,
   "metadata": {},
   "outputs": [],
   "source": [
    "python_results[0] = timeit(sum, int_test_arr)\n",
    "numpy_results[0] = timeit(np.sum, int_test_arr)"
   ]
  },
  {
   "cell_type": "code",
   "execution_count": 7,
   "metadata": {},
   "outputs": [],
   "source": [
    "python_results[1] = timeit(any, bool_test_arr)\n",
    "python_results[2] = timeit(all, bool_test_arr)\n",
    "\n",
    "numpy_results[1] = timeit(np.any, bool_test_arr)\n",
    "numpy_results[2] = timeit(np.all, bool_test_arr)"
   ]
  },
  {
   "cell_type": "code",
   "execution_count": 8,
   "metadata": {},
   "outputs": [],
   "source": [
    "python_results[3] = timeit(min, int_test_arr)\n",
    "python_results[4] = timeit(max, int_test_arr)\n",
    "\n",
    "numpy_results[3] = timeit(np.min, int_test_arr)\n",
    "numpy_results[4] = timeit(np.max, int_test_arr)"
   ]
  },
  {
   "cell_type": "code",
   "execution_count": 9,
   "metadata": {},
   "outputs": [
    {
     "data": {
      "text/plain": [
       "<matplotlib.legend.Legend at 0x829f908>"
      ]
     },
     "execution_count": 9,
     "metadata": {},
     "output_type": "execute_result"
    },
    {
     "data": {
      "image/png": "[encoded data removed]",
      "text/plain": [
       "<Figure size 1152x576 with 1 Axes>"
      ]
     },
     "metadata": {
      "needs_background": "light"
     },
     "output_type": "display_data"
    }
   ],
   "source": [
    "figure = plt.figure(figsize=(16, 8))\n",
    "\n",
    "ax = figure.add_subplot(111)\n",
    "\n",
    "py = python_results\n",
    "num = numpy_results\n",
    "\n",
    "labels = ['sum', 'any', 'all', 'min', 'max']\n",
    "xticks = np.array([1, 3, 5, 7, 9])\n",
    "width = 0.4\n",
    "\n",
    "ax.set_title('Numpy vs Python')\n",
    "ax.set_xticks(xticks)\n",
    "ax.set_xticklabels(labels, fontsize=15)\n",
    "\n",
    "ax.bar(xticks - width / 2, py, width=width, color='red', label='Python time')\n",
    "ax.bar(xticks + width / 2, num, width=width, color='blue', label='Numpy time')\n",
    "ax.legend(loc='best', fontsize=20)"
   ]
  },
  {
   "cell_type": "code",
   "execution_count": null,
   "metadata": {},
   "outputs": [],
   "source": []
  }
 ],
 "metadata": {
  "kernelspec": {
   "display_name": "Python 3",
   "language": "python",
   "name": "python3"
  },
  "language_info": {
   "codemirror_mode": {
    "name": "ipython",
    "version": 3
   },
   "file_extension": ".py",
   "mimetype": "text/x-python",
   "name": "python",
   "nbconvert_exporter": "python",
   "pygments_lexer": "ipython3",
   "version": "3.7.3"
  }
 },
 "nbformat": 4,
 "nbformat_minor": 2
}
