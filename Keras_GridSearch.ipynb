{
 "cells": [
  {
   "cell_type": "code",
   "execution_count": 1,
   "metadata": {},
   "outputs": [],
   "source": [
    "# Импортирование необходимых функций и классов \n",
    "import numpy as np\n",
    "\n",
    "from sklearn.datasets import load_breast_cancer\n",
    "\n",
    "from sklearn.pipeline import Pipeline\n",
    "from sklearn.model_selection import GridSearchCV\n",
    "\n",
    "from sklearn.model_selection import train_test_split\n",
    "from sklearn.preprocessing import StandardScaler\n",
    "\n",
    "from tensorflow.keras.wrappers.scikit_learn import KerasClassifier\n",
    "from tensorflow.keras.models import Sequential\n",
    "from tensorflow.keras.layers import Dense, Dropout\n",
    "\n",
    "from tensorflow.keras.utils import plot_model\n",
    "from PIL import Image"
   ]
  },
  {
   "cell_type": "code",
   "execution_count": 2,
   "metadata": {},
   "outputs": [
    {
     "data": {
      "text/plain": [
       "((569, 30), (569,))"
      ]
     },
     "execution_count": 2,
     "metadata": {},
     "output_type": "execute_result"
    }
   ],
   "source": [
    "# Загрузка данных\n",
    "dataset = load_breast_cancer()\n",
    "X = np.array(dataset.data)\n",
    "y = np.array(dataset.target).astype('object')\n",
    "X.shape, y.shape"
   ]
  },
  {
   "cell_type": "code",
   "execution_count": 3,
   "metadata": {},
   "outputs": [],
   "source": [
    "# Разделение данных на тренировочные/тестовые\n",
    "X_train, X_test, y_train, y_test = train_test_split(X, y, test_size=0.2)"
   ]
  },
  {
   "cell_type": "code",
   "execution_count": 4,
   "metadata": {},
   "outputs": [],
   "source": [
    "# Класс кастомного классификатора\n",
    "class ModelBuilder(object):\n",
    "    # Конструктор класса\n",
    "    def __init__(self):\n",
    "        pass\n",
    "    \n",
    "    # Метод, используемый GridSearchCV \n",
    "    # для установки параметров\n",
    "    def set_params(self, \n",
    "                   layers=[],\n",
    "                   optimizer='rmsprop',\n",
    "                   loss='binary_crossentropy',\n",
    "                   metric=['accuracy'],\n",
    "                   epochs=200,\n",
    "                   batch_size=5):\n",
    "        \n",
    "        # Установка параметров в качестве полей класса\n",
    "        self.__layers = layers\n",
    "        self.__optimizer = optimizer\n",
    "        self.__loss = loss\n",
    "        self.__metric = metric\n",
    "        self.__epochs = epochs\n",
    "        self.__batch_size = batch_size\n",
    "\n",
    "        \n",
    "        # Преобразования модели в классификатор sklearn\n",
    "        self.model = KerasClassifier(build_fn=self.__build, \n",
    "                                     epochs=epochs,\n",
    "                                     batch_size=batch_size)\n",
    "        \n",
    "    # Функция для постройки модели    \n",
    "    def __build(self):\n",
    "        \n",
    "        model = Sequential(self.__layers)\n",
    "            \n",
    "        model.compile(optimizer=self.__optimizer, \n",
    "                      loss=self.__loss, \n",
    "                      metrics=self.__metric)\n",
    "        \n",
    "        return model\n",
    "    \n",
    "        \n",
    "    # Адаптирование модели    \n",
    "    def fit(self, X, y):\n",
    "        \n",
    "        return self.model.fit(x=X, y=y)\n",
    "    \n",
    "    \n",
    "    # Предсказание модели\n",
    "    def predict(self, X):\n",
    "        \n",
    "        return self.model.predict(X)\n",
    "    \n",
    "    \n",
    "    # Вычисление точности предсказания\n",
    "    def score(self, X, y):\n",
    "        \n",
    "        return self.model.score(X, y)"
   ]
  },
  {
   "cell_type": "code",
   "execution_count": 5,
   "metadata": {},
   "outputs": [],
   "source": [
    "# Различные наборы слоёв\n",
    "params = {\n",
    "    'clf__layers': [[Dense(256, activation='relu', input_shape=(30, )), Dense(256, activation='relu'), Dropout(0.4), Dense(1, activation='sigmoid')],\n",
    "                   [Dense(64, activation='relu', input_shape=(30, )), Dropout(0.4), Dense(64, activation='relu'), Dense(1, activation='sigmoid')],\n",
    "                   [Dense(16, activation='relu', input_shape=(30, )), Dropout(0.4), Dense(16, activation='relu'), Dense(16, activation='relu'),\n",
    "                    Dropout(0.4), Dense(1, activation='sigmoid')]\n",
    "                   ],\n",
    "    'clf__optimizer': ['rmsprop'],\n",
    "    'clf__loss': ['binary_crossentropy'],\n",
    "    'clf__metric': [['accuracy']],\n",
    "    'clf__epochs': [25, 50]\n",
    "    }                                                                                  "
   ]
  },
  {
   "cell_type": "code",
   "execution_count": 6,
   "metadata": {},
   "outputs": [],
   "source": [
    "# Инициализация трансформера\n",
    "scaler = StandardScaler()\n",
    "\n",
    "# Инициализация классификатора\n",
    "clf = ModelBuilder()\n",
    "\n",
    "# Создание конвеера\n",
    "pipeline = Pipeline([('scaler', scaler), ('clf', clf)])"
   ]
  },
  {
   "cell_type": "code",
   "execution_count": 7,
   "metadata": {},
   "outputs": [],
   "source": [
    "# Построение класса, выполняющего сеточный поиск\n",
    "grid_search = GridSearchCV(pipeline, params)"
   ]
  },
  {
   "cell_type": "code",
   "execution_count": 8,
   "metadata": {},
   "outputs": [
    {
     "name": "stdout",
     "output_type": "stream",
     "text": [
      "WARNING:tensorflow:From C:\\ProgramData\\Miniconda3\\lib\\site-packages\\tensorflow\\python\\ops\\resource_variable_ops.py:435: colocate_with (from tensorflow.python.framework.ops) is deprecated and will be removed in a future version.\n",
      "Instructions for updating:\n",
      "Colocations handled automatically by placer.\n",
      "WARNING:tensorflow:From C:\\ProgramData\\Miniconda3\\lib\\site-packages\\tensorflow\\python\\keras\\layers\\core.py:143: calling dropout (from tensorflow.python.ops.nn_ops) with keep_prob is deprecated and will be removed in a future version.\n",
      "Instructions for updating:\n",
      "Please use `rate` instead of `keep_prob`. Rate should be set to `rate = 1 - keep_prob`.\n"
     ]
    },
    {
     "name": "stderr",
     "output_type": "stream",
     "text": [
      "C:\\ProgramData\\Miniconda3\\lib\\site-packages\\sklearn\\model_selection\\_split.py:1978: FutureWarning: The default value of cv will change from 3 to 5 in version 0.22. Specify it explicitly to silence this warning.\n",
      "  warnings.warn(CV_WARNING, FutureWarning)\n"
     ]
    },
    {
     "name": "stdout",
     "output_type": "stream",
     "text": []
    },
    {
     "data": {
      "text/plain": [
       "GridSearchCV(cv='warn', error_score='raise-deprecating',\n",
       "             estimator=Pipeline(memory=None,\n",
       "                                steps=[('scaler',\n",
       "                                        StandardScaler(copy=True,\n",
       "                                                       with_mean=True,\n",
       "                                                       with_std=True)),\n",
       "                                       ('clf',\n",
       "                                        <__main__.ModelBuilder object at 0x000000000E9BD9E8>)],\n",
       "                                verbose=False),\n",
       "             iid='warn', n_jobs=None,\n",
       "             param_grid={'clf__epochs': [25, 50],\n",
       "                         'clf__layers': [[<tensorflow.python.keras.layers.core.Dense ob...\n",
       "                                          <tensorflow.python.keras.layers.core.Dense object at 0x000000000E9E2470>,\n",
       "                                          <tensorflow.python.keras.layers.core.Dropout object at 0x000000000E9E25C0>,\n",
       "                                          <tensorflow.python.keras.layers.core.Dense object at 0x000000000E9E25F8>]],\n",
       "                         'clf__loss': ['binary_crossentropy'],\n",
       "                         'clf__metric': [['accuracy']],\n",
       "                         'clf__optimizer': ['rmsprop']},\n",
       "             pre_dispatch='2*n_jobs', refit=True, return_train_score=False,\n",
       "             scoring=None, verbose=0)"
      ]
     },
     "execution_count": 8,
     "metadata": {},
     "output_type": "execute_result"
    }
   ],
   "source": [
    "# Алгоритм обучает множество моделей на тренировочных данных\n",
    "grid_search.fit(X_train, y_train)"
   ]
  },
  {
   "cell_type": "code",
   "execution_count": 9,
   "metadata": {},
   "outputs": [],
   "source": [
    "# Лучшие \"гиперпараметры\", найденны поиском\n",
    "params = grid_search.best_params_\n",
    "\n",
    "layers = params['clf__layers']\n",
    "metric = params['clf__metric']\n",
    "optimizer = params['clf__optimizer']\n",
    "epochs = params['clf__epochs']\n",
    "loss = params['clf__loss']"
   ]
  },
  {
   "cell_type": "code",
   "execution_count": 10,
   "metadata": {},
   "outputs": [],
   "source": [
    "# Построение модели, основываясь на лучшие \"гиперпараметры\"\n",
    "model = Sequential(layers)\n",
    "\n",
    "model.compile(optimizer=optimizer,\n",
    "              loss=loss,\n",
    "              metrics=metric)\n",
    "\n",
    "# Визуализация архитектуры\n",
    "plot_model(model, to_file='model.png')"
   ]
  },
  {
   "cell_type": "code",
   "execution_count": 11,
   "metadata": {},
   "outputs": [
    {
     "data": {
      "image/png": "[encoded data removed]",
      "text/plain": [
       "<PIL.PngImagePlugin.PngImageFile image mode=RGBA size=165x449 at 0x1CD13F28>"
      ]
     },
     "execution_count": 11,
     "metadata": {},
     "output_type": "execute_result"
    }
   ],
   "source": [
    "# Вывод изображения\n",
    "img = Image.open(\"model.png\")\n",
    "img"
   ]
  },
  {
   "cell_type": "code",
   "execution_count": 12,
   "metadata": {},
   "outputs": [
    {
     "name": "stdout",
     "output_type": "stream",
     "text": [
      "455/455 [==============================] - 0s 837us/sample - loss: 0.0701 - acc: 0.9956\n",
      "114/114 [==============================] - 0s 307us/sample - loss: 0.1686 - acc: 0.9825\n",
      "Score on train data is 0.995604395866394\n",
      "Score on test data is 0.9824561476707458\n"
     ]
    }
   ],
   "source": [
    "model = grid_search.best_estimator_\n",
    "\n",
    "train_score = model.score(X_train, y_train)\n",
    "test_score = model.score(X_test, y_test)\n",
    "\n",
    "print('Score on train data is {0}'.format(train_score))\n",
    "print('Score on test data is {0}'.format(test_score))"
   ]
  }
 ],
 "metadata": {
  "kernelspec": {
   "display_name": "Python 3",
   "language": "python",
   "name": "python3"
  },
  "language_info": {
   "codemirror_mode": {
    "name": "ipython",
    "version": 3
   },
   "file_extension": ".py",
   "mimetype": "text/x-python",
   "name": "python",
   "nbconvert_exporter": "python",
   "pygments_lexer": "ipython3",
   "version": "3.7.3"
  }
 },
 "nbformat": 4,
 "nbformat_minor": 2
}
