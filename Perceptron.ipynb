{
 "cells": [
  {
   "cell_type": "code",
   "execution_count": 1,
   "metadata": {},
   "outputs": [],
   "source": [
    "import numpy as np\n",
    "\n",
    "from sklearn.datasets import load_iris\n",
    "\n",
    "from sklearn.model_selection import train_test_split\n",
    "\n",
    "from sklearn.linear_model import LogisticRegression\n",
    "\n",
    "data = load_iris()\n",
    "\n",
    "X_main = data.data\n",
    "Y_main = data.target\n",
    "\n",
    "X_train, X_test, y_train, y_test = train_test_split(X_main,\n",
    "                                                    Y_main, \n",
    "                                                    random_state=42)"
   ]
  },
  {
   "cell_type": "code",
   "execution_count": 7,
   "metadata": {},
   "outputs": [],
   "source": [
    "class ModelNotFittedError(Exception):\n",
    "    def __init__(self, text):\n",
    "        ModelNotFittedError.text = text"
   ]
  },
  {
   "cell_type": "code",
   "execution_count": 17,
   "metadata": {},
   "outputs": [],
   "source": [
    "class Perceptron(object):\n",
    "\n",
    "    def __init__(self, eta=0.01 , n_iter=10):\n",
    "        if (eta <= 0) or (eta >= 1):\n",
    "            raise ValueError('Eta must be greater than 0 and less than 1')\n",
    "        self.eta = eta\n",
    "        self.n_iter = n_iter\n",
    "        \n",
    "        self.__is_fitted = False\n",
    "\n",
    "    def fit(self, X, y): \n",
    "        self.__is_fitted = True\n",
    "        \n",
    "        self.coef_ = np.zeros(X.shape[1])\n",
    "        self.intercept_ = 0\n",
    "        self.errors_ = []\n",
    "        for _ in range (self.n_iter):\n",
    "            errors = 0.0\n",
    "            for xi, target in zip (X, y):\n",
    "                update = self.eta * (target - self.predict(xi))\n",
    "                self.coef_       += update * xi\n",
    "                self.intercept_  += update\n",
    "                errors           += int(update != 0.0)\n",
    "            self.errors_.append (errors)\n",
    "            \n",
    "        return self\n",
    "\n",
    "    def net_input(self, X):\n",
    "        return np.dot(X, self.coef_) + self.intercept_\n",
    "\n",
    "    def predict (self, X):\n",
    "        if not self.__is_fitted:\n",
    "            raise ModelNotFittedError('Model is not fitted.')\n",
    "        \n",
    "        result = self.net_input(X)\n",
    "        \n",
    "        if result < -2:\n",
    "            return 0\n",
    "        elif result > 2:\n",
    "            return 2\n",
    "        else:\n",
    "            return 1\n",
    "        \n",
    "    def score(self, X, y):\n",
    "        results = np.array([self.predict(xi) for xi in X])\n",
    "        \n",
    "        return np.sum(results == y) / len(y)"
   ]
  },
  {
   "cell_type": "code",
   "execution_count": 25,
   "metadata": {},
   "outputs": [
    {
     "name": "stdout",
     "output_type": "stream",
     "text": [
      "Perceptron(eta=0.1, n_iter=10). Score:0.7368421052631579\n",
      "Perceptron(eta=0.1, n_iter=15). Score:0.9473684210526315\n",
      "Perceptron(eta=0.1, n_iter=20). Score:0.9210526315789473\n",
      "Perceptron(eta=0.3, n_iter=10). Score:0.7105263157894737\n",
      "Perceptron(eta=0.3, n_iter=15). Score:0.7894736842105263\n",
      "Perceptron(eta=0.3, n_iter=20). Score:0.6578947368421053\n",
      "Perceptron(eta=0.5, n_iter=10). Score:0.6578947368421053\n",
      "Perceptron(eta=0.5, n_iter=15). Score:0.7105263157894737\n",
      "Perceptron(eta=0.5, n_iter=20). Score:0.6052631578947368\n"
     ]
    }
   ],
   "source": [
    "from itertools import permutations\n",
    "\n",
    "for eta, n_iter in [(eta, n) for eta in [.1, .3, .5] for n in (10, 15, 20)]:\n",
    "    pr = Perceptron(eta=eta, n_iter=n_iter).fit(X_train, y_train)\n",
    "    \n",
    "    print('Perceptron(eta={0}, n_iter={1}). Score:{2}'.format(eta,\n",
    "                                                              n_iter,\n",
    "                                                              pr.score(X_test, y_test)))"
   ]
  },
  {
   "cell_type": "code",
   "execution_count": 26,
   "metadata": {},
   "outputs": [
    {
     "name": "stdout",
     "output_type": "stream",
     "text": [
      "LogisticRegression(C=0.001). Score:0.3157894736842105\n",
      "LogisticRegression(C=0.01). Score:0.7105263157894737\n",
      "LogisticRegression(C=0.1). Score:0.868421052631579\n",
      "LogisticRegression(C=1). Score:1.0\n",
      "LogisticRegression(C=10). Score:1.0\n",
      "LogisticRegression(C=100). Score:1.0\n"
     ]
    }
   ],
   "source": [
    "for C in (0.001, 0.01, 0.1, 1, 10, 100):\n",
    "    lr = LogisticRegression(C=C).fit(X_train, y_train)\n",
    "    \n",
    "    print('LogisticRegression(C={0}). Score:{1}'.format(C,\n",
    "                                                        lr.score(X_test, y_test)))"
   ]
  },
  {
   "cell_type": "code",
   "execution_count": 32,
   "metadata": {},
   "outputs": [
    {
     "data": {
      "image/png": "[encoded data removed]",
      "text/plain": [
       "<Figure size 432x288 with 1 Axes>"
      ]
     },
     "metadata": {},
     "output_type": "display_data"
    }
   ],
   "source": [
    "%matplotlib inline\n",
    "import matplotlib.pyplot as plt\n",
    "\n",
    "pr = Perceptron(eta=0.2, n_iter=20).fit(X_train, y_train)\n",
    "\n",
    "errors = pr.errors_\n",
    "\n",
    "plt.xlabel('Кол-во итераций')\n",
    "plt.ylabel('Кол-во ошибок на итерации')\n",
    "plt.xticks(range(1, 21), [str(i) for i in range(1, 21)])\n",
    "plt.xlim(1, 20)\n",
    "plt.plot(range(1, 21), errors, color='red')\n",
    "plt.grid()"
   ]
  },
  {
   "cell_type": "code",
   "execution_count": null,
   "metadata": {},
   "outputs": [],
   "source": []
  }
 ],
 "metadata": {
  "kernelspec": {
   "display_name": "Python 3",
   "language": "python",
   "name": "python3"
  },
  "language_info": {
   "codemirror_mode": {
    "name": "ipython",
    "version": 3
   },
   "file_extension": ".py",
   "mimetype": "text/x-python",
   "name": "python",
   "nbconvert_exporter": "python",
   "pygments_lexer": "ipython3",
   "version": "3.5.2"
  }
 },
 "nbformat": 4,
 "nbformat_minor": 2
}
