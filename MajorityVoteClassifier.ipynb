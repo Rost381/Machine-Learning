{
 "cells": [
  {
   "cell_type": "code",
   "execution_count": 1,
   "metadata": {},
   "outputs": [],
   "source": [
    "import numpy as np\n",
    "\n",
    "from sklearn.linear_model import LogisticRegression\n",
    "from sklearn.ensemble import RandomForestClassifier\n",
    "from sklearn.neural_network import MLPClassifier\n",
    "from sklearn.tree import DecisionTreeClassifier\n",
    "\n",
    "from sklearn.datasets import load_wine\n",
    "from sklearn.model_selection import train_test_split"
   ]
  },
  {
   "cell_type": "code",
   "execution_count": 2,
   "metadata": {},
   "outputs": [],
   "source": [
    "class MajorityVotingClassifier(object):\n",
    "    def __init__(self):\n",
    "        self.models = list()\n",
    "        \n",
    "    def add_model(self, model):\n",
    "        self.models.append(model)\n",
    "        \n",
    "    def fit(self, X, y):\n",
    "        \n",
    "        if len(self.models) == 0:\n",
    "            raise ValueError('Classifier hasn\\'t any models \"inside\"')\n",
    "        \n",
    "        for model in self.models:\n",
    "            model.fit(X, y)\n",
    "            \n",
    "    def predict(self, X):\n",
    "        results = [model.predict([X])[0] for model in self.models]\n",
    "        \n",
    "        map = dict()\n",
    "        \n",
    "        for result in results:\n",
    "            if result in map:\n",
    "                map[result] += 1\n",
    "            else:\n",
    "                map[result] = 1        \n",
    "        \n",
    "        map = list(map.items())\n",
    "        map.sort(reverse=True, key= lambda i : i[1])\n",
    "        return map[0][0]\n",
    "    \n",
    "    def score(self, X, y):\n",
    "        predictions = np.array([self.predict(x) for x in X])\n",
    "        \n",
    "        return np.sum(predictions == y) / len(y)\n",
    "    \n",
    "    def score_models(self, X, y):\n",
    "        results = [model.score(X, y) for model in self.models]\n",
    "        return results"
   ]
  },
  {
   "cell_type": "code",
   "execution_count": 3,
   "metadata": {},
   "outputs": [],
   "source": [
    "data = load_wine()\n",
    "\n",
    "X = data.data\n",
    "y = data.target\n",
    "\n",
    "X_train, X_test, y_train, y_test = train_test_split(X, y, test_size=0.3)"
   ]
  },
  {
   "cell_type": "code",
   "execution_count": 4,
   "metadata": {},
   "outputs": [],
   "source": [
    "mjvclf = MajorityVotingClassifier()\n",
    "\n",
    "lr = LogisticRegression()\n",
    "rf = RandomForestClassifier(n_estimators=100)\n",
    "mlp = MLPClassifier(activation='tanh', max_iter=10000)\n",
    "dt = DecisionTreeClassifier(max_depth=3)\n",
    "\n",
    "mjvclf.add_model(lr)\n",
    "mjvclf.add_model(rf)\n",
    "mjvclf.add_model(mlp)\n",
    "mjvclf.add_model(dt)\n",
    "\n",
    "mjvclf.fit(X_train, y_train)"
   ]
  },
  {
   "cell_type": "code",
   "execution_count": 5,
   "metadata": {},
   "outputs": [
    {
     "name": "stdout",
     "output_type": "stream",
     "text": [
      "0.9629629629629629\n"
     ]
    },
    {
     "data": {
      "text/plain": [
       "[0.9259259259259259,\n",
       " 0.9444444444444444,\n",
       " 0.9074074074074074,\n",
       " 0.9444444444444444]"
      ]
     },
     "execution_count": 5,
     "metadata": {},
     "output_type": "execute_result"
    }
   ],
   "source": [
    "print(mjvclf.score(X_test, y_test))\n",
    "mjvclf.score_models(X_test, y_test)"
   ]
  },
  {
   "cell_type": "code",
   "execution_count": null,
   "metadata": {},
   "outputs": [],
   "source": []
  }
 ],
 "metadata": {
  "kernelspec": {
   "display_name": "Python 3",
   "language": "python",
   "name": "python3"
  },
  "language_info": {
   "codemirror_mode": {
    "name": "ipython",
    "version": 3
   },
   "file_extension": ".py",
   "mimetype": "text/x-python",
   "name": "python",
   "nbconvert_exporter": "python",
   "pygments_lexer": "ipython3",
   "version": "3.5.2"
  }
 },
 "nbformat": 4,
 "nbformat_minor": 2
}
