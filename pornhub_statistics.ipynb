{
 "cells": [
  {
   "cell_type": "markdown",
   "metadata": {},
   "source": [
    "<h1>Анализ данных PornHub</h1>"
   ]
  },
  {
   "cell_type": "code",
   "execution_count": 1,
   "metadata": {},
   "outputs": [],
   "source": [
    "import pandas as pd\n",
    "import numpy as np\n",
    "import matplotlib.pyplot as plt"
   ]
  },
  {
   "cell_type": "markdown",
   "metadata": {},
   "source": [
    "<h2>One-Hot-Encoding категорий видео</h2>"
   ]
  },
  {
   "cell_type": "code",
   "execution_count": 2,
   "metadata": {},
   "outputs": [
    {
     "data": {
      "text/html": [
       "<div>\n",
       "<style scoped>\n",
       "    .dataframe tbody tr th:only-of-type {\n",
       "        vertical-align: middle;\n",
       "    }\n",
       "\n",
       "    .dataframe tbody tr th {\n",
       "        vertical-align: top;\n",
       "    }\n",
       "\n",
       "    .dataframe thead th {\n",
       "        text-align: right;\n",
       "    }\n",
       "</style>\n",
       "<table border=\"1\" class=\"dataframe\">\n",
       "  <thead>\n",
       "    <tr style=\"text-align: right;\">\n",
       "      <th></th>\n",
       "      <th>Unnamed: 0</th>\n",
       "      <th>img_source</th>\n",
       "      <th>length</th>\n",
       "      <th>nb_views</th>\n",
       "      <th>quality</th>\n",
       "      <th>title</th>\n",
       "      <th>video_link</th>\n",
       "      <th>voting</th>\n",
       "      <th>categories</th>\n",
       "      <th>tags</th>\n",
       "    </tr>\n",
       "  </thead>\n",
       "  <tbody>\n",
       "    <tr>\n",
       "      <th>0</th>\n",
       "      <td>0</td>\n",
       "      <td>http://cdn-d-img.pornhub.com/m=eafT8daaaa/vide...</td>\n",
       "      <td>1583.0</td>\n",
       "      <td>127450.0</td>\n",
       "      <td>LOW</td>\n",
       "      <td>Tease then suck</td>\n",
       "      <td>http://thumbzilla.com/video/244ff4e3d92c3bc943...</td>\n",
       "      <td>84.0</td>\n",
       "      <td>Blowjob</td>\n",
       "      <td>blowjob__oral __fullvideo__strip__tease</td>\n",
       "    </tr>\n",
       "    <tr>\n",
       "      <th>1</th>\n",
       "      <td>1</td>\n",
       "      <td>http://cdn-d-img.pornhub.com/m=eafT8daaaa/vide...</td>\n",
       "      <td>2501.0</td>\n",
       "      <td>480620.0</td>\n",
       "      <td>LOW</td>\n",
       "      <td>Two hot chick on one dick</td>\n",
       "      <td>http://thumbzilla.com/video/1f6206a9c0ea20f710...</td>\n",
       "      <td>79.0</td>\n",
       "      <td>Threesome</td>\n",
       "      <td>oral__blonde__threesome__blowjob__kissing__tig...</td>\n",
       "    </tr>\n",
       "    <tr>\n",
       "      <th>2</th>\n",
       "      <td>2</td>\n",
       "      <td>http://cdn-d-img.pornhub.com/m=eafT8daaaa/vide...</td>\n",
       "      <td>1513.0</td>\n",
       "      <td>99720.0</td>\n",
       "      <td>LOW</td>\n",
       "      <td>Chick stretches her pussy and blows for the cam</td>\n",
       "      <td>http://thumbzilla.com/video/384a338ea9e067abe2...</td>\n",
       "      <td>77.0</td>\n",
       "      <td>Brunette</td>\n",
       "      <td>blowjob__pussy__fingering__oral __fullvideo__s...</td>\n",
       "    </tr>\n",
       "    <tr>\n",
       "      <th>3</th>\n",
       "      <td>3</td>\n",
       "      <td>http://cdn-d-img.pornhub.com/m=eafT8daaaa/vide...</td>\n",
       "      <td>1710.0</td>\n",
       "      <td>598820.0</td>\n",
       "      <td>LOW</td>\n",
       "      <td>Fucking my neighbour</td>\n",
       "      <td>http://thumbzilla.com/video/7d7f0f159d8550a233...</td>\n",
       "      <td>80.0</td>\n",
       "      <td>Blonde__MILF</td>\n",
       "      <td>rubbing__oral__blonde__busty__blowjob__hardcor...</td>\n",
       "    </tr>\n",
       "    <tr>\n",
       "      <th>4</th>\n",
       "      <td>4</td>\n",
       "      <td>http://cdn-d-img.pornhub.com/m=eafT8daaaa/vide...</td>\n",
       "      <td>1694.0</td>\n",
       "      <td>155850.0</td>\n",
       "      <td>LOW</td>\n",
       "      <td>Small titted whore sucking a cock for lunch</td>\n",
       "      <td>http://thumbzilla.com/video/cd325329c5da836d29...</td>\n",
       "      <td>79.0</td>\n",
       "      <td>POV</td>\n",
       "      <td>rubbing__oral__blowjob__fingering__masturbatio...</td>\n",
       "    </tr>\n",
       "  </tbody>\n",
       "</table>\n",
       "</div>"
      ],
      "text/plain": [
       "   Unnamed: 0                                         img_source  length  \\\n",
       "0           0  http://cdn-d-img.pornhub.com/m=eafT8daaaa/vide...  1583.0   \n",
       "1           1  http://cdn-d-img.pornhub.com/m=eafT8daaaa/vide...  2501.0   \n",
       "2           2  http://cdn-d-img.pornhub.com/m=eafT8daaaa/vide...  1513.0   \n",
       "3           3  http://cdn-d-img.pornhub.com/m=eafT8daaaa/vide...  1710.0   \n",
       "4           4  http://cdn-d-img.pornhub.com/m=eafT8daaaa/vide...  1694.0   \n",
       "\n",
       "   nb_views quality                                            title  \\\n",
       "0  127450.0     LOW                                  Tease then suck   \n",
       "1  480620.0     LOW                        Two hot chick on one dick   \n",
       "2   99720.0     LOW  Chick stretches her pussy and blows for the cam   \n",
       "3  598820.0     LOW                             Fucking my neighbour   \n",
       "4  155850.0     LOW      Small titted whore sucking a cock for lunch   \n",
       "\n",
       "                                          video_link  voting     categories  \\\n",
       "0  http://thumbzilla.com/video/244ff4e3d92c3bc943...    84.0        Blowjob   \n",
       "1  http://thumbzilla.com/video/1f6206a9c0ea20f710...    79.0     Threesome    \n",
       "2  http://thumbzilla.com/video/384a338ea9e067abe2...    77.0       Brunette   \n",
       "3  http://thumbzilla.com/video/7d7f0f159d8550a233...    80.0  Blonde__MILF    \n",
       "4  http://thumbzilla.com/video/cd325329c5da836d29...    79.0           POV    \n",
       "\n",
       "                                                tags  \n",
       "0            blowjob__oral __fullvideo__strip__tease  \n",
       "1  oral__blonde__threesome__blowjob__kissing__tig...  \n",
       "2  blowjob__pussy__fingering__oral __fullvideo__s...  \n",
       "3  rubbing__oral__blonde__busty__blowjob__hardcor...  \n",
       "4  rubbing__oral__blowjob__fingering__masturbatio...  "
      ]
     },
     "execution_count": 2,
     "metadata": {},
     "output_type": "execute_result"
    }
   ],
   "source": [
    "df = pd.read_csv('data.csv')\n",
    "\n",
    "total_size = len(df)\n",
    "df.head()"
   ]
  },
  {
   "cell_type": "code",
   "execution_count": 3,
   "metadata": {},
   "outputs": [
    {
     "data": {
      "text/html": [
       "<div>\n",
       "<style scoped>\n",
       "    .dataframe tbody tr th:only-of-type {\n",
       "        vertical-align: middle;\n",
       "    }\n",
       "\n",
       "    .dataframe tbody tr th {\n",
       "        vertical-align: top;\n",
       "    }\n",
       "\n",
       "    .dataframe thead th {\n",
       "        text-align: right;\n",
       "    }\n",
       "</style>\n",
       "<table border=\"1\" class=\"dataframe\">\n",
       "  <thead>\n",
       "    <tr style=\"text-align: right;\">\n",
       "      <th></th>\n",
       "      <th>length</th>\n",
       "      <th>nb_views</th>\n",
       "      <th>quality</th>\n",
       "      <th>title</th>\n",
       "      <th>voting</th>\n",
       "      <th>categories</th>\n",
       "    </tr>\n",
       "  </thead>\n",
       "  <tbody>\n",
       "    <tr>\n",
       "      <th>0</th>\n",
       "      <td>1583.0</td>\n",
       "      <td>127450.0</td>\n",
       "      <td>LOW</td>\n",
       "      <td>Tease then suck</td>\n",
       "      <td>84.0</td>\n",
       "      <td>Blowjob</td>\n",
       "    </tr>\n",
       "    <tr>\n",
       "      <th>1</th>\n",
       "      <td>2501.0</td>\n",
       "      <td>480620.0</td>\n",
       "      <td>LOW</td>\n",
       "      <td>Two hot chick on one dick</td>\n",
       "      <td>79.0</td>\n",
       "      <td>Threesome</td>\n",
       "    </tr>\n",
       "    <tr>\n",
       "      <th>2</th>\n",
       "      <td>1513.0</td>\n",
       "      <td>99720.0</td>\n",
       "      <td>LOW</td>\n",
       "      <td>Chick stretches her pussy and blows for the cam</td>\n",
       "      <td>77.0</td>\n",
       "      <td>Brunette</td>\n",
       "    </tr>\n",
       "    <tr>\n",
       "      <th>3</th>\n",
       "      <td>1710.0</td>\n",
       "      <td>598820.0</td>\n",
       "      <td>LOW</td>\n",
       "      <td>Fucking my neighbour</td>\n",
       "      <td>80.0</td>\n",
       "      <td>Blonde__MILF</td>\n",
       "    </tr>\n",
       "    <tr>\n",
       "      <th>4</th>\n",
       "      <td>1694.0</td>\n",
       "      <td>155850.0</td>\n",
       "      <td>LOW</td>\n",
       "      <td>Small titted whore sucking a cock for lunch</td>\n",
       "      <td>79.0</td>\n",
       "      <td>POV</td>\n",
       "    </tr>\n",
       "  </tbody>\n",
       "</table>\n",
       "</div>"
      ],
      "text/plain": [
       "   length  nb_views quality                                            title  \\\n",
       "0  1583.0  127450.0     LOW                                  Tease then suck   \n",
       "1  2501.0  480620.0     LOW                        Two hot chick on one dick   \n",
       "2  1513.0   99720.0     LOW  Chick stretches her pussy and blows for the cam   \n",
       "3  1710.0  598820.0     LOW                             Fucking my neighbour   \n",
       "4  1694.0  155850.0     LOW      Small titted whore sucking a cock for lunch   \n",
       "\n",
       "   voting     categories  \n",
       "0    84.0        Blowjob  \n",
       "1    79.0     Threesome   \n",
       "2    77.0       Brunette  \n",
       "3    80.0  Blonde__MILF   \n",
       "4    79.0           POV   "
      ]
     },
     "execution_count": 3,
     "metadata": {},
     "output_type": "execute_result"
    }
   ],
   "source": [
    "del df['Unnamed: 0']\n",
    "del df['img_source'] \n",
    "del df['video_link']\n",
    "del df['tags']\n",
    "df.head()"
   ]
  },
  {
   "cell_type": "code",
   "execution_count": 4,
   "metadata": {},
   "outputs": [
    {
     "data": {
      "text/plain": [
       "['Blowjob', 'Threesome ', 'Brunette', 'Blonde', 'MILF ']"
      ]
     },
     "execution_count": 4,
     "metadata": {},
     "output_type": "execute_result"
    }
   ],
   "source": [
    "categories = list()\n",
    "\n",
    "for category in df['categories'].values:\n",
    "    category = str(category)\n",
    "    for tag in category.split('__'):\n",
    "        if not tag in categories:\n",
    "            categories.append(tag)\n",
    "    \n",
    "categories[:5]"
   ]
  },
  {
   "cell_type": "code",
   "execution_count": 5,
   "metadata": {},
   "outputs": [
    {
     "data": {
      "text/html": [
       "<div>\n",
       "<style scoped>\n",
       "    .dataframe tbody tr th:only-of-type {\n",
       "        vertical-align: middle;\n",
       "    }\n",
       "\n",
       "    .dataframe tbody tr th {\n",
       "        vertical-align: top;\n",
       "    }\n",
       "\n",
       "    .dataframe thead th {\n",
       "        text-align: right;\n",
       "    }\n",
       "</style>\n",
       "<table border=\"1\" class=\"dataframe\">\n",
       "  <thead>\n",
       "    <tr style=\"text-align: right;\">\n",
       "      <th></th>\n",
       "      <th>length</th>\n",
       "      <th>nb_views</th>\n",
       "      <th>quality</th>\n",
       "      <th>title</th>\n",
       "      <th>voting</th>\n",
       "      <th>categories</th>\n",
       "      <th>Blowjob</th>\n",
       "      <th>Threesome</th>\n",
       "      <th>Brunette</th>\n",
       "      <th>Blonde</th>\n",
       "      <th>...</th>\n",
       "      <th>Cuckold</th>\n",
       "      <th>Bukkake</th>\n",
       "      <th>Shemale</th>\n",
       "      <th>Bisexual</th>\n",
       "      <th>Virtual Reality</th>\n",
       "      <th>Feet</th>\n",
       "      <th>Hentai</th>\n",
       "      <th>Described Video</th>\n",
       "      <th>Described Video</th>\n",
       "      <th>60fps</th>\n",
       "    </tr>\n",
       "  </thead>\n",
       "  <tbody>\n",
       "    <tr>\n",
       "      <th>0</th>\n",
       "      <td>1583.0</td>\n",
       "      <td>127450.0</td>\n",
       "      <td>LOW</td>\n",
       "      <td>Tease then suck</td>\n",
       "      <td>84.0</td>\n",
       "      <td>Blowjob</td>\n",
       "      <td>0.0</td>\n",
       "      <td>0.0</td>\n",
       "      <td>0.0</td>\n",
       "      <td>0.0</td>\n",
       "      <td>...</td>\n",
       "      <td>0.0</td>\n",
       "      <td>0.0</td>\n",
       "      <td>0.0</td>\n",
       "      <td>0.0</td>\n",
       "      <td>0.0</td>\n",
       "      <td>0.0</td>\n",
       "      <td>0.0</td>\n",
       "      <td>0.0</td>\n",
       "      <td>0.0</td>\n",
       "      <td>0.0</td>\n",
       "    </tr>\n",
       "    <tr>\n",
       "      <th>1</th>\n",
       "      <td>2501.0</td>\n",
       "      <td>480620.0</td>\n",
       "      <td>LOW</td>\n",
       "      <td>Two hot chick on one dick</td>\n",
       "      <td>79.0</td>\n",
       "      <td>Threesome</td>\n",
       "      <td>0.0</td>\n",
       "      <td>0.0</td>\n",
       "      <td>0.0</td>\n",
       "      <td>0.0</td>\n",
       "      <td>...</td>\n",
       "      <td>0.0</td>\n",
       "      <td>0.0</td>\n",
       "      <td>0.0</td>\n",
       "      <td>0.0</td>\n",
       "      <td>0.0</td>\n",
       "      <td>0.0</td>\n",
       "      <td>0.0</td>\n",
       "      <td>0.0</td>\n",
       "      <td>0.0</td>\n",
       "      <td>0.0</td>\n",
       "    </tr>\n",
       "    <tr>\n",
       "      <th>2</th>\n",
       "      <td>1513.0</td>\n",
       "      <td>99720.0</td>\n",
       "      <td>LOW</td>\n",
       "      <td>Chick stretches her pussy and blows for the cam</td>\n",
       "      <td>77.0</td>\n",
       "      <td>Brunette</td>\n",
       "      <td>0.0</td>\n",
       "      <td>0.0</td>\n",
       "      <td>0.0</td>\n",
       "      <td>0.0</td>\n",
       "      <td>...</td>\n",
       "      <td>0.0</td>\n",
       "      <td>0.0</td>\n",
       "      <td>0.0</td>\n",
       "      <td>0.0</td>\n",
       "      <td>0.0</td>\n",
       "      <td>0.0</td>\n",
       "      <td>0.0</td>\n",
       "      <td>0.0</td>\n",
       "      <td>0.0</td>\n",
       "      <td>0.0</td>\n",
       "    </tr>\n",
       "    <tr>\n",
       "      <th>3</th>\n",
       "      <td>1710.0</td>\n",
       "      <td>598820.0</td>\n",
       "      <td>LOW</td>\n",
       "      <td>Fucking my neighbour</td>\n",
       "      <td>80.0</td>\n",
       "      <td>Blonde__MILF</td>\n",
       "      <td>0.0</td>\n",
       "      <td>0.0</td>\n",
       "      <td>0.0</td>\n",
       "      <td>0.0</td>\n",
       "      <td>...</td>\n",
       "      <td>0.0</td>\n",
       "      <td>0.0</td>\n",
       "      <td>0.0</td>\n",
       "      <td>0.0</td>\n",
       "      <td>0.0</td>\n",
       "      <td>0.0</td>\n",
       "      <td>0.0</td>\n",
       "      <td>0.0</td>\n",
       "      <td>0.0</td>\n",
       "      <td>0.0</td>\n",
       "    </tr>\n",
       "    <tr>\n",
       "      <th>4</th>\n",
       "      <td>1694.0</td>\n",
       "      <td>155850.0</td>\n",
       "      <td>LOW</td>\n",
       "      <td>Small titted whore sucking a cock for lunch</td>\n",
       "      <td>79.0</td>\n",
       "      <td>POV</td>\n",
       "      <td>0.0</td>\n",
       "      <td>0.0</td>\n",
       "      <td>0.0</td>\n",
       "      <td>0.0</td>\n",
       "      <td>...</td>\n",
       "      <td>0.0</td>\n",
       "      <td>0.0</td>\n",
       "      <td>0.0</td>\n",
       "      <td>0.0</td>\n",
       "      <td>0.0</td>\n",
       "      <td>0.0</td>\n",
       "      <td>0.0</td>\n",
       "      <td>0.0</td>\n",
       "      <td>0.0</td>\n",
       "      <td>0.0</td>\n",
       "    </tr>\n",
       "  </tbody>\n",
       "</table>\n",
       "<p>5 rows × 170 columns</p>\n",
       "</div>"
      ],
      "text/plain": [
       "   length  nb_views quality                                            title  \\\n",
       "0  1583.0  127450.0     LOW                                  Tease then suck   \n",
       "1  2501.0  480620.0     LOW                        Two hot chick on one dick   \n",
       "2  1513.0   99720.0     LOW  Chick stretches her pussy and blows for the cam   \n",
       "3  1710.0  598820.0     LOW                             Fucking my neighbour   \n",
       "4  1694.0  155850.0     LOW      Small titted whore sucking a cock for lunch   \n",
       "\n",
       "   voting     categories  Blowjob  Threesome   Brunette  Blonde  ...  Cuckold  \\\n",
       "0    84.0        Blowjob      0.0         0.0       0.0     0.0  ...      0.0   \n",
       "1    79.0     Threesome       0.0         0.0       0.0     0.0  ...      0.0   \n",
       "2    77.0       Brunette      0.0         0.0       0.0     0.0  ...      0.0   \n",
       "3    80.0  Blonde__MILF       0.0         0.0       0.0     0.0  ...      0.0   \n",
       "4    79.0           POV       0.0         0.0       0.0     0.0  ...      0.0   \n",
       "\n",
       "   Bukkake   Shemale   Bisexual   Virtual Reality  Feet   Hentai   \\\n",
       "0       0.0       0.0        0.0              0.0    0.0      0.0   \n",
       "1       0.0       0.0        0.0              0.0    0.0      0.0   \n",
       "2       0.0       0.0        0.0              0.0    0.0      0.0   \n",
       "3       0.0       0.0        0.0              0.0    0.0      0.0   \n",
       "4       0.0       0.0        0.0              0.0    0.0      0.0   \n",
       "\n",
       "   Described Video   Described Video  60fps   \n",
       "0               0.0              0.0     0.0  \n",
       "1               0.0              0.0     0.0  \n",
       "2               0.0              0.0     0.0  \n",
       "3               0.0              0.0     0.0  \n",
       "4               0.0              0.0     0.0  \n",
       "\n",
       "[5 rows x 170 columns]"
      ]
     },
     "execution_count": 5,
     "metadata": {},
     "output_type": "execute_result"
    }
   ],
   "source": [
    "for tag in categories:\n",
    "    df[tag] = np.zeros(total_size)\n",
    "\n",
    "df.head()"
   ]
  },
  {
   "cell_type": "code",
   "execution_count": 6,
   "metadata": {},
   "outputs": [
    {
     "data": {
      "text/html": [
       "<div>\n",
       "<style scoped>\n",
       "    .dataframe tbody tr th:only-of-type {\n",
       "        vertical-align: middle;\n",
       "    }\n",
       "\n",
       "    .dataframe tbody tr th {\n",
       "        vertical-align: top;\n",
       "    }\n",
       "\n",
       "    .dataframe thead th {\n",
       "        text-align: right;\n",
       "    }\n",
       "</style>\n",
       "<table border=\"1\" class=\"dataframe\">\n",
       "  <thead>\n",
       "    <tr style=\"text-align: right;\">\n",
       "      <th></th>\n",
       "      <th>length</th>\n",
       "      <th>nb_views</th>\n",
       "      <th>quality</th>\n",
       "      <th>title</th>\n",
       "      <th>voting</th>\n",
       "      <th>categories</th>\n",
       "      <th>Blowjob</th>\n",
       "      <th>Threesome</th>\n",
       "      <th>Brunette</th>\n",
       "      <th>Blonde</th>\n",
       "      <th>...</th>\n",
       "      <th>Cuckold</th>\n",
       "      <th>Bukkake</th>\n",
       "      <th>Shemale</th>\n",
       "      <th>Bisexual</th>\n",
       "      <th>Virtual Reality</th>\n",
       "      <th>Feet</th>\n",
       "      <th>Hentai</th>\n",
       "      <th>Described Video</th>\n",
       "      <th>Described Video</th>\n",
       "      <th>60fps</th>\n",
       "    </tr>\n",
       "  </thead>\n",
       "  <tbody>\n",
       "    <tr>\n",
       "      <th>0</th>\n",
       "      <td>1583.0</td>\n",
       "      <td>127450.0</td>\n",
       "      <td>LOW</td>\n",
       "      <td>Tease then suck</td>\n",
       "      <td>84.0</td>\n",
       "      <td>Blowjob</td>\n",
       "      <td>1.0</td>\n",
       "      <td>0.0</td>\n",
       "      <td>0.0</td>\n",
       "      <td>0.0</td>\n",
       "      <td>...</td>\n",
       "      <td>0.0</td>\n",
       "      <td>0.0</td>\n",
       "      <td>0.0</td>\n",
       "      <td>0.0</td>\n",
       "      <td>0.0</td>\n",
       "      <td>0.0</td>\n",
       "      <td>0.0</td>\n",
       "      <td>0.0</td>\n",
       "      <td>0.0</td>\n",
       "      <td>0.0</td>\n",
       "    </tr>\n",
       "    <tr>\n",
       "      <th>1</th>\n",
       "      <td>2501.0</td>\n",
       "      <td>480620.0</td>\n",
       "      <td>LOW</td>\n",
       "      <td>Two hot chick on one dick</td>\n",
       "      <td>79.0</td>\n",
       "      <td>Threesome</td>\n",
       "      <td>0.0</td>\n",
       "      <td>1.0</td>\n",
       "      <td>0.0</td>\n",
       "      <td>0.0</td>\n",
       "      <td>...</td>\n",
       "      <td>0.0</td>\n",
       "      <td>0.0</td>\n",
       "      <td>0.0</td>\n",
       "      <td>0.0</td>\n",
       "      <td>0.0</td>\n",
       "      <td>0.0</td>\n",
       "      <td>0.0</td>\n",
       "      <td>0.0</td>\n",
       "      <td>0.0</td>\n",
       "      <td>0.0</td>\n",
       "    </tr>\n",
       "    <tr>\n",
       "      <th>2</th>\n",
       "      <td>1513.0</td>\n",
       "      <td>99720.0</td>\n",
       "      <td>LOW</td>\n",
       "      <td>Chick stretches her pussy and blows for the cam</td>\n",
       "      <td>77.0</td>\n",
       "      <td>Brunette</td>\n",
       "      <td>0.0</td>\n",
       "      <td>0.0</td>\n",
       "      <td>1.0</td>\n",
       "      <td>0.0</td>\n",
       "      <td>...</td>\n",
       "      <td>0.0</td>\n",
       "      <td>0.0</td>\n",
       "      <td>0.0</td>\n",
       "      <td>0.0</td>\n",
       "      <td>0.0</td>\n",
       "      <td>0.0</td>\n",
       "      <td>0.0</td>\n",
       "      <td>0.0</td>\n",
       "      <td>0.0</td>\n",
       "      <td>0.0</td>\n",
       "    </tr>\n",
       "    <tr>\n",
       "      <th>3</th>\n",
       "      <td>1710.0</td>\n",
       "      <td>598820.0</td>\n",
       "      <td>LOW</td>\n",
       "      <td>Fucking my neighbour</td>\n",
       "      <td>80.0</td>\n",
       "      <td>Blonde__MILF</td>\n",
       "      <td>0.0</td>\n",
       "      <td>0.0</td>\n",
       "      <td>0.0</td>\n",
       "      <td>1.0</td>\n",
       "      <td>...</td>\n",
       "      <td>0.0</td>\n",
       "      <td>0.0</td>\n",
       "      <td>0.0</td>\n",
       "      <td>0.0</td>\n",
       "      <td>0.0</td>\n",
       "      <td>0.0</td>\n",
       "      <td>0.0</td>\n",
       "      <td>0.0</td>\n",
       "      <td>0.0</td>\n",
       "      <td>0.0</td>\n",
       "    </tr>\n",
       "    <tr>\n",
       "      <th>4</th>\n",
       "      <td>1694.0</td>\n",
       "      <td>155850.0</td>\n",
       "      <td>LOW</td>\n",
       "      <td>Small titted whore sucking a cock for lunch</td>\n",
       "      <td>79.0</td>\n",
       "      <td>POV</td>\n",
       "      <td>0.0</td>\n",
       "      <td>0.0</td>\n",
       "      <td>0.0</td>\n",
       "      <td>0.0</td>\n",
       "      <td>...</td>\n",
       "      <td>0.0</td>\n",
       "      <td>0.0</td>\n",
       "      <td>0.0</td>\n",
       "      <td>0.0</td>\n",
       "      <td>0.0</td>\n",
       "      <td>0.0</td>\n",
       "      <td>0.0</td>\n",
       "      <td>0.0</td>\n",
       "      <td>0.0</td>\n",
       "      <td>0.0</td>\n",
       "    </tr>\n",
       "  </tbody>\n",
       "</table>\n",
       "<p>5 rows × 170 columns</p>\n",
       "</div>"
      ],
      "text/plain": [
       "   length  nb_views quality                                            title  \\\n",
       "0  1583.0  127450.0     LOW                                  Tease then suck   \n",
       "1  2501.0  480620.0     LOW                        Two hot chick on one dick   \n",
       "2  1513.0   99720.0     LOW  Chick stretches her pussy and blows for the cam   \n",
       "3  1710.0  598820.0     LOW                             Fucking my neighbour   \n",
       "4  1694.0  155850.0     LOW      Small titted whore sucking a cock for lunch   \n",
       "\n",
       "   voting     categories  Blowjob  Threesome   Brunette  Blonde  ...  Cuckold  \\\n",
       "0    84.0        Blowjob      1.0         0.0       0.0     0.0  ...      0.0   \n",
       "1    79.0     Threesome       0.0         1.0       0.0     0.0  ...      0.0   \n",
       "2    77.0       Brunette      0.0         0.0       1.0     0.0  ...      0.0   \n",
       "3    80.0  Blonde__MILF       0.0         0.0       0.0     1.0  ...      0.0   \n",
       "4    79.0           POV       0.0         0.0       0.0     0.0  ...      0.0   \n",
       "\n",
       "   Bukkake   Shemale   Bisexual   Virtual Reality  Feet   Hentai   \\\n",
       "0       0.0       0.0        0.0              0.0    0.0      0.0   \n",
       "1       0.0       0.0        0.0              0.0    0.0      0.0   \n",
       "2       0.0       0.0        0.0              0.0    0.0      0.0   \n",
       "3       0.0       0.0        0.0              0.0    0.0      0.0   \n",
       "4       0.0       0.0        0.0              0.0    0.0      0.0   \n",
       "\n",
       "   Described Video   Described Video  60fps   \n",
       "0               0.0              0.0     0.0  \n",
       "1               0.0              0.0     0.0  \n",
       "2               0.0              0.0     0.0  \n",
       "3               0.0              0.0     0.0  \n",
       "4               0.0              0.0     0.0  \n",
       "\n",
       "[5 rows x 170 columns]"
      ]
     },
     "execution_count": 6,
     "metadata": {},
     "output_type": "execute_result"
    }
   ],
   "source": [
    "for tag in categories:\n",
    "    column = np.zeros(total_size)\n",
    "    for i, category in enumerate(df[categories]):\n",
    "        if tag in category.split('__'):\n",
    "            column[i] = 1\n",
    "    df[tag] = column\n",
    "    \n",
    "df.head()    "
   ]
  },
  {
   "cell_type": "markdown",
   "metadata": {},
   "source": [
    "<h2>Лучшие оценки среди категорий </h2>"
   ]
  },
  {
   "cell_type": "code",
   "execution_count": 7,
   "metadata": {},
   "outputs": [
    {
     "data": {
      "text/plain": [
       "[('Blowjob', 84.0),\n",
       " ('Threesome ', 79.0),\n",
       " ('Brunette', 77.0),\n",
       " ('Blonde', 80.0),\n",
       " ('MILF ', 79.0)]"
      ]
     },
     "execution_count": 7,
     "metadata": {},
     "output_type": "execute_result"
    }
   ],
   "source": [
    "votes = [(tag, df[df[tag] == 1]['voting'].values.mean()) for tag in categories]\n",
    "votes[:5]"
   ]
  },
  {
   "cell_type": "code",
   "execution_count": 8,
   "metadata": {},
   "outputs": [
    {
     "data": {
      "text/plain": [
       "[('Japanese', 87.0),\n",
       " ('Creampie', 87.0),\n",
       " ('Euro', 87.0),\n",
       " ('Italian', 88.0),\n",
       " ('Anal ', 88.0)]"
      ]
     },
     "execution_count": 8,
     "metadata": {},
     "output_type": "execute_result"
    }
   ],
   "source": [
    "votes.sort(reverse=True, key=lambda set: set[1])\n",
    "votes = votes[:15]; votes.reverse()\n",
    "votes[:5]"
   ]
  },
  {
   "cell_type": "code",
   "execution_count": 9,
   "metadata": {},
   "outputs": [
    {
     "data": {
      "image/png": "[encoded data removed]",
      "text/plain": [
       "<Figure size 1440x720 with 1 Axes>"
      ]
     },
     "metadata": {
      "needs_background": "light"
     },
     "output_type": "display_data"
    }
   ],
   "source": [
    "scores = [set[1] for set in votes]\n",
    "labels = [set[0] for set in votes]\n",
    "\n",
    "plt.figure(figsize=(20, 10))\n",
    "plt.yticks(range(15), labels, fontsize=20)\n",
    "plt.title('Most voited categories on PornHub', fontsize=20)\n",
    "plt.xlabel('Vote', fontsize=20); plt.ylabel('Category', fontsize=20)\n",
    "plt.barh(range(15), scores, height=0.5, color='blue')\n",
    "\n",
    "plt.savefig('votes.png')"
   ]
  },
  {
   "cell_type": "markdown",
   "metadata": {},
   "source": [
    "<h2>Самые просматриваемые категории</h2>"
   ]
  },
  {
   "cell_type": "code",
   "execution_count": 10,
   "metadata": {},
   "outputs": [
    {
     "data": {
      "text/plain": [
       "[('Blowjob', 127450.0),\n",
       " ('Threesome ', 480620.0),\n",
       " ('Brunette', 99720.0),\n",
       " ('Blonde', 598820.0),\n",
       " ('MILF ', 155850.0)]"
      ]
     },
     "execution_count": 10,
     "metadata": {},
     "output_type": "execute_result"
    }
   ],
   "source": [
    "views = [(tag, df[df[tag] == 1]['nb_views'].values.mean()) for tag in categories]\n",
    "views[:5]"
   ]
  },
  {
   "cell_type": "code",
   "execution_count": 11,
   "metadata": {},
   "outputs": [
    {
     "data": {
      "text/plain": [
       "[('Interracial ', 897420.0),\n",
       " ('Fisting', 1210000.0),\n",
       " ('Behind The Scenes ', 1270000.0),\n",
       " ('Babe ', 1360000.0),\n",
       " ('Cuckold ', 1450000.0)]"
      ]
     },
     "execution_count": 11,
     "metadata": {},
     "output_type": "execute_result"
    }
   ],
   "source": [
    "views.sort(reverse=True, key=lambda set: set[1])\n",
    "views = views[:15]; views.reverse()\n",
    "views[:5]"
   ]
  },
  {
   "cell_type": "code",
   "execution_count": 12,
   "metadata": {},
   "outputs": [
    {
     "data": {
      "image/png": "[encoded data removed]",
      "text/plain": [
       "<Figure size 1440x720 with 1 Axes>"
      ]
     },
     "metadata": {
      "needs_background": "light"
     },
     "output_type": "display_data"
    }
   ],
   "source": [
    "view = [set[1] / 10**6 for set in views]\n",
    "labels = [set[0] for set in views]\n",
    "\n",
    "plt.figure(figsize=(20, 10))\n",
    "plt.yticks(range(15), labels, fontsize=20)\n",
    "plt.title('Most viewed categories on PornHub', fontsize=20)\n",
    "plt.xlabel('Mean views (in millions)', fontsize=20); plt.ylabel('Category', fontsize=20)\n",
    "plt.barh(range(15), view, height=0.5, color='blue')\n",
    "\n",
    "plt.savefig('views.png')"
   ]
  },
  {
   "cell_type": "markdown",
   "metadata": {},
   "source": [
    "<h2> Самые длинные ролики</h2>"
   ]
  },
  {
   "cell_type": "code",
   "execution_count": 13,
   "metadata": {},
   "outputs": [
    {
     "data": {
      "text/plain": [
       "[('Blowjob', 1583.0),\n",
       " ('Threesome ', 2501.0),\n",
       " ('Brunette', 1513.0),\n",
       " ('Blonde', 1710.0),\n",
       " ('MILF ', 1694.0)]"
      ]
     },
     "execution_count": 13,
     "metadata": {},
     "output_type": "execute_result"
    }
   ],
   "source": [
    "lengths = [(tag, df[df[tag] == 1]['length'].values.mean()) for tag in categories]\n",
    "lengths[:5]"
   ]
  },
  {
   "cell_type": "code",
   "execution_count": 14,
   "metadata": {},
   "outputs": [
    {
     "data": {
      "text/plain": [
       "[('Fisting', 1732.0),\n",
       " ('Hardcore', 1793.0),\n",
       " ('60fps', 1803.0),\n",
       " ('Small Tits ', 1821.0),\n",
       " ('Parody', 1843.0)]"
      ]
     },
     "execution_count": 14,
     "metadata": {},
     "output_type": "execute_result"
    }
   ],
   "source": [
    "lengths.sort(reverse=True, key=lambda set: set[1])\n",
    "lengths = lengths[:15]; lengths.reverse()\n",
    "lengths[:5]"
   ]
  },
  {
   "cell_type": "code",
   "execution_count": 19,
   "metadata": {},
   "outputs": [
    {
     "data": {
      "image/png": "[encoded data removed]",
      "text/plain": [
       "<Figure size 1440x720 with 1 Axes>"
      ]
     },
     "metadata": {
      "needs_background": "light"
     },
     "output_type": "display_data"
    }
   ],
   "source": [
    "length = [set[1] / 60 for set in lengths]\n",
    "labels = [set[0] for set in lengths]\n",
    "\n",
    "plt.figure(figsize=(20, 10))\n",
    "plt.yticks(range(15), labels, fontsize=20)\n",
    "plt.title('Most \"longest\" categories on PornHub', fontsize=20)\n",
    "plt.xlabel('Mean length (in minutes)', fontsize=20); plt.ylabel('Category', fontsize=20)\n",
    "plt.barh(range(15), length, height=0.5, color='blue')\n",
    "\n",
    "plt.savefig('lengths.png')"
   ]
  },
  {
   "cell_type": "code",
   "execution_count": null,
   "metadata": {},
   "outputs": [],
   "source": []
  }
 ],
 "metadata": {
  "kernelspec": {
   "display_name": "Python 3",
   "language": "python",
   "name": "python3"
  },
  "language_info": {
   "codemirror_mode": {
    "name": "ipython",
    "version": 3
   },
   "file_extension": ".py",
   "mimetype": "text/x-python",
   "name": "python",
   "nbconvert_exporter": "python",
   "pygments_lexer": "ipython3",
   "version": "3.7.3"
  }
 },
 "nbformat": 4,
 "nbformat_minor": 2
}
