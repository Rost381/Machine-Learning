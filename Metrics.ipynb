{
 "cells": [
  {
   "cell_type": "markdown",
   "metadata": {},
   "source": [
    "<h3>Accuracy</h3>"
   ]
  },
  {
   "cell_type": "markdown",
   "metadata": {},
   "source": [
    "$$\\phi_{norm} (y, y_1) = \\frac{1}{n} \\cdot \\sum_{i=1}^n \\left[(y^i == y_{1}^i) \\right]$$\n",
    "$$\\phi (y, y_1) = \\sum_{i=1}^n \\left[(y^i == y_{1}^i) \\right]$$"
   ]
  },
  {
   "cell_type": "code",
   "execution_count": 1,
   "metadata": {},
   "outputs": [
    {
     "name": "stdout",
     "output_type": "stream",
     "text": [
      "0.75\n",
      "3\n"
     ]
    }
   ],
   "source": [
    "from sklearn.metrics import accuracy_score\n",
    "\n",
    "y_true = [0, 1, 2, 3]\n",
    "y_pred = [0, 1, 2, 2]\n",
    "\n",
    "print(accuracy_score(y_pred, y_true))\n",
    "print(accuracy_score(y_pred, y_true, normalize=False))"
   ]
  },
  {
   "cell_type": "markdown",
   "metadata": {},
   "source": [
    "<h3>Precision and recall</h3>"
   ]
  },
  {
   "cell_type": "markdown",
   "metadata": {},
   "source": [
    "$$PR = \\frac{TP}{TP + FP}, \\text{where TP - true positive predicted labels, FP - false positive predicted labels}$$\n",
    "$$RC = \\frac{TP}{TP + FN}, \\text{where FN - false negative predicted labels}$$"
   ]
  },
  {
   "cell_type": "code",
   "execution_count": 2,
   "metadata": {},
   "outputs": [
    {
     "name": "stdout",
     "output_type": "stream",
     "text": [
      "0.6\n",
      "0.75\n"
     ]
    }
   ],
   "source": [
    "from sklearn.metrics import precision_score, recall_score\n",
    "\n",
    "y_true = [0, 1, 1, 0, 1, 1, 1, 0]\n",
    "y_pred = [0, 1, 0, 0, 1, 1, 0, 1]\n",
    "\n",
    "print(precision_score(y_pred, y_true))\n",
    "print(recall_score(y_pred, y_true))"
   ]
  },
  {
   "cell_type": "markdown",
   "metadata": {},
   "source": [
    "<h3>Mean Absolute Error</h3>"
   ]
  },
  {
   "cell_type": "markdown",
   "metadata": {},
   "source": [
    "$$MAE(y, y_1) = \\frac{1}{n} \\cdot \\sum_{i=1}^n |y^i - y^i_1|$$"
   ]
  },
  {
   "cell_type": "code",
   "execution_count": 3,
   "metadata": {},
   "outputs": [
    {
     "name": "stdout",
     "output_type": "stream",
     "text": [
      "0.09333333333333345\n"
     ]
    }
   ],
   "source": [
    "from sklearn.metrics import mean_absolute_error\n",
    "\n",
    "y_true =      [0.75, 2.5, 2.1, 0.4, 3.1, 3.35]\n",
    "y_pred = [0.6, 2.4, 2.05, 0.335, 3.005, 3.25]\n",
    "\n",
    "print(mean_absolute_error(y_pred, y_true))"
   ]
  },
  {
   "cell_type": "markdown",
   "metadata": {},
   "source": [
    "<h3>Mean Squared Error</h3>"
   ]
  },
  {
   "cell_type": "markdown",
   "metadata": {},
   "source": [
    "$$MSE(y, y_1) = \\frac{1}{n} \\cdot \\sum_{i = 1}^n (y^i - y_1^i)^2$$"
   ]
  },
  {
   "cell_type": "code",
   "execution_count": 4,
   "metadata": {},
   "outputs": [
    {
     "name": "stdout",
     "output_type": "stream",
     "text": [
      "0.011140166666666671\n"
     ]
    }
   ],
   "source": [
    "from sklearn.metrics import mean_squared_error\n",
    "\n",
    "y_true = [0.75, 2.4, 2.105, 0.55, 3.251, 3.15]\n",
    "y_pred = [0.6, 2.4, 2.05, 0.45, 3.105, 3.25]\n",
    "\n",
    "print(mean_squared_error(y_pred, y_true))"
   ]
  },
  {
   "cell_type": "markdown",
   "metadata": {},
   "source": [
    "<h3>Root Mean Squared Deviation</h3>"
   ]
  },
  {
   "cell_type": "markdown",
   "metadata": {},
   "source": [
    "$$RMSD(y, y_1) = \\sqrt{MSE(y, y_1)} = \\sqrt{\\frac{1}{n} \\cdot \\sum_{i=1}^n (y^i - y^i_1)^2)}$$"
   ]
  },
  {
   "cell_type": "code",
   "execution_count": 5,
   "metadata": {},
   "outputs": [
    {
     "name": "stdout",
     "output_type": "stream",
     "text": [
      "0.10554698795639159\n"
     ]
    }
   ],
   "source": [
    "from sklearn.metrics import mean_squared_error\n",
    "import numpy as np\n",
    "\n",
    "y_true = [0.75, 2.4, 2.105, 0.55, 3.251, 3.15]\n",
    "y_pred = [0.6, 2.4, 2.05, 0.45, 3.105, 3.25]\n",
    "\n",
    "print(np.sqrt(mean_squared_error(y_pred, y_true)))"
   ]
  },
  {
   "cell_type": "markdown",
   "metadata": {},
   "source": [
    "<h3>F1-score</h3>"
   ]
  },
  {
   "cell_type": "markdown",
   "metadata": {},
   "source": [
    "$$F1 = \\frac{2 \\cdot (PR \\cdot RC)}{PR + RC}$$"
   ]
  },
  {
   "cell_type": "code",
   "execution_count": 6,
   "metadata": {},
   "outputs": [
    {
     "name": "stdout",
     "output_type": "stream",
     "text": [
      "0.8\n"
     ]
    }
   ],
   "source": [
    "from sklearn.metrics import f1_score\n",
    "\n",
    "y_true = [1, 0, 1, 0, 1, 1, 0]\n",
    "y_pred = [1, 1, 1, 0, 1, 1, 1]\n",
    "\n",
    "print(f1_score(y_true, y_pred))"
   ]
  },
  {
   "cell_type": "markdown",
   "metadata": {},
   "source": [
    "<h3>Coefficient of determination (R squared)</h3>"
   ]
  },
  {
   "cell_type": "markdown",
   "metadata": {},
   "source": [
    "$$R^2(y, y_1) = 1 - \\frac{\\sum_{i=1}^{n} (y^i - y_1^i)^2}{\\sum_{i=1}^{n} (y^i - y_{mean})^2}$$"
   ]
  },
  {
   "cell_type": "code",
   "execution_count": 7,
   "metadata": {},
   "outputs": [
    {
     "name": "stdout",
     "output_type": "stream",
     "text": [
      "0.7812202097235462\n"
     ]
    }
   ],
   "source": [
    "from sklearn.metrics import r2_score\n",
    "\n",
    "y_true = [50, 51, 34, 56, 72, 38]\n",
    "y_pred = [52, 48, 37, 55, 63, 31]\n",
    "\n",
    "print(r2_score(y_pred, y_true))"
   ]
  }
 ],
 "metadata": {
  "kernelspec": {
   "display_name": "Python 3",
   "language": "python",
   "name": "python3"
  },
  "language_info": {
   "codemirror_mode": {
    "name": "ipython",
    "version": 3
   },
   "file_extension": ".py",
   "mimetype": "text/x-python",
   "name": "python",
   "nbconvert_exporter": "python",
   "pygments_lexer": "ipython3",
   "version": "3.7.3"
  }
 },
 "nbformat": 4,
 "nbformat_minor": 2
}
