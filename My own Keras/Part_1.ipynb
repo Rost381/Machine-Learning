{
 "cells": [
  {
   "cell_type": "code",
   "execution_count": 1,
   "metadata": {},
   "outputs": [],
   "source": [
    "import numpy as np\n",
    "\n",
    "from sklearn.datasets import load_breast_cancer\n",
    "from sklearn.model_selection import train_test_split"
   ]
  },
  {
   "cell_type": "code",
   "execution_count": 2,
   "metadata": {},
   "outputs": [],
   "source": [
    "class Model:\n",
    "    def __init__(self, layers=None):\n",
    "        if not layers:\n",
    "            layers = list()\n",
    "            \n",
    "        for layer in layers:\n",
    "            if not isinstance(layer, Layer):\n",
    "                raise TypeError('Argument is not a layer.')\n",
    "        \n",
    "        self.__layers = layers\n",
    "        self.__fitted = False\n",
    "        \n",
    "    def add(self, layer):\n",
    "        if self.__fitted:\n",
    "            raise AttributeError('The model has already been fitted.')\n",
    "        \n",
    "        if not isinstance(layer, Layer):\n",
    "            raise TypeError('Argument is not a layer.')\n",
    "            \n",
    "        self.__layers.append(layer)\n",
    "        \n",
    "        return self\n",
    "        \n",
    "    def fit(self, X, Y, epochs=10, eta=.01):\n",
    "        X = np.array(X); Y = np.array(Y)\n",
    "        self.__input_shape = X[0].shape\n",
    "        \n",
    "        \n",
    "        \n",
    "        if X.shape[0] != Y.shape[0]:\n",
    "            raise ValueError('Inputs have different shape.')\n",
    "        \n",
    "        for layer in self.__layers:\n",
    "            layer._set_input_shape(self.__input_shape)\n",
    "            \n",
    "                \n",
    "        for epoch in range(epochs):   \n",
    "            for i in range(len(X)):\n",
    "                x = X[i]; y = Y[i];\n",
    "                for layer in self.__layers:\n",
    "                    x = layer._net_input(x)\n",
    "                        \n",
    "                update = eta * (y - x)   \n",
    "                    \n",
    "                for layer in self.__layers:\n",
    "                    layer._update(update)  \n",
    "                    \n",
    "        self.__fitted = True            \n",
    "        return self            \n",
    "            \n",
    "    def predict(self, X):\n",
    "        if not self.__fitted: raise TypeError('The model is not fitted.') \n",
    "        return [1 if self._net_input(x) > 0 else 0 for x in X]\n",
    "    \n",
    "    def _net_input(self, x):\n",
    "        for layer in self.__layers:\n",
    "            x = layer._net_input(x)\n",
    "            \n",
    "        return x.sum() \n",
    "    \n",
    "    def score(self, X, Y):\n",
    "        return sum(np.array(self.predict(X)) == Y) / len(Y) "
   ]
  },
  {
   "cell_type": "code",
   "execution_count": 3,
   "metadata": {},
   "outputs": [],
   "source": [
    "class Layer:\n",
    "        \n",
    "    def _net_input(self, x):\n",
    "        if not self.__input_shape == x.shape:\n",
    "            raise ValueError(f'X has bad shape {x.shape}, must be {self.__input_shape}')\n",
    "            \n",
    "        self.__input = x    \n",
    "            \n",
    "        return x * self.__weights + self.__intercept   \n",
    "    \n",
    "    def _set_input_shape(self, shape):\n",
    "        self.__input_shape = shape\n",
    "        self.__weights = np.random.random(self.__input_shape)\n",
    "        self.__intercept = 0\n",
    "        \n",
    "    def _update(self, update):\n",
    "        delta_w = update * self.__input\n",
    "        \n",
    "        self.__weights += delta_w\n",
    "        self.__intercept += delta_w\n",
    "        "
   ]
  },
  {
   "cell_type": "code",
   "execution_count": 4,
   "metadata": {},
   "outputs": [],
   "source": [
    "data = load_breast_cancer()\n",
    "\n",
    "X = data.data\n",
    "y = data.target"
   ]
  },
  {
   "cell_type": "code",
   "execution_count": 5,
   "metadata": {},
   "outputs": [
    {
     "name": "stderr",
     "output_type": "stream",
     "text": [
      "C:\\ProgramData\\Miniconda3\\lib\\site-packages\\ipykernel_launcher.py:17: RuntimeWarning: overflow encountered in multiply\n",
      "C:\\ProgramData\\Miniconda3\\lib\\site-packages\\ipykernel_launcher.py:9: RuntimeWarning: overflow encountered in multiply\n",
      "  if __name__ == '__main__':\n",
      "C:\\ProgramData\\Miniconda3\\lib\\site-packages\\ipykernel_launcher.py:19: RuntimeWarning: invalid value encountered in add\n",
      "C:\\ProgramData\\Miniconda3\\lib\\site-packages\\ipykernel_launcher.py:20: RuntimeWarning: invalid value encountered in add\n",
      "C:\\ProgramData\\Miniconda3\\lib\\site-packages\\ipykernel_launcher.py:9: RuntimeWarning: invalid value encountered in add\n",
      "  if __name__ == '__main__':\n"
     ]
    },
    {
     "data": {
      "text/plain": [
       "<__main__.Model at 0x878fbe0>"
      ]
     },
     "execution_count": 5,
     "metadata": {},
     "output_type": "execute_result"
    }
   ],
   "source": [
    "model = Model()\n",
    "model.add(Layer())\n",
    "model.add(Layer())\n",
    "model.add(Layer())\n",
    "\n",
    "X_train, X_test, y_train, y_test = train_test_split(X, y, test_size=0.1)\n",
    "\n",
    "model.fit(X_train, y_train, epochs=500, eta=0.1)"
   ]
  },
  {
   "cell_type": "code",
   "execution_count": 6,
   "metadata": {},
   "outputs": [
    {
     "data": {
      "text/plain": [
       "0.49122807017543857"
      ]
     },
     "execution_count": 6,
     "metadata": {},
     "output_type": "execute_result"
    }
   ],
   "source": [
    "model.score(X_test, y_test)"
   ]
  },
  {
   "cell_type": "code",
   "execution_count": null,
   "metadata": {},
   "outputs": [],
   "source": []
  }
 ],
 "metadata": {
  "kernelspec": {
   "display_name": "Python 3",
   "language": "python",
   "name": "python3"
  },
  "language_info": {
   "codemirror_mode": {
    "name": "ipython",
    "version": 3
   },
   "file_extension": ".py",
   "mimetype": "text/x-python",
   "name": "python",
   "nbconvert_exporter": "python",
   "pygments_lexer": "ipython3",
   "version": "3.7.3"
  }
 },
 "nbformat": 4,
 "nbformat_minor": 2
}
