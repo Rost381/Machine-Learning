{
 "cells": [
  {
   "cell_type": "code",
   "execution_count": 1,
   "metadata": {},
   "outputs": [],
   "source": [
    "from sklearn.datasets import load_breast_cancer\n",
    "from sklearn.model_selection import train_test_split\n",
    "from sklearn.metrics import accuracy_score\n",
    "\n",
    "from tensorflow.keras.models import Sequential, model_from_json\n",
    "from tensorflow.keras.layers import Dense, Dropout\n",
    "from tensorflow.keras.callbacks import ModelCheckpoint"
   ]
  },
  {
   "cell_type": "code",
   "execution_count": 2,
   "metadata": {},
   "outputs": [
    {
     "data": {
      "text/plain": [
       "((569, 30), (569,))"
      ]
     },
     "execution_count": 2,
     "metadata": {},
     "output_type": "execute_result"
    }
   ],
   "source": [
    "dataset = load_breast_cancer()\n",
    "X = dataset.data\n",
    "y = dataset.target\n",
    "del dataset\n",
    "\n",
    "X.shape, y.shape"
   ]
  },
  {
   "cell_type": "code",
   "execution_count": 3,
   "metadata": {},
   "outputs": [
    {
     "data": {
      "text/plain": [
       "((512, 30), (512,))"
      ]
     },
     "execution_count": 3,
     "metadata": {},
     "output_type": "execute_result"
    }
   ],
   "source": [
    "X_train, X_test, y_train, y_test = train_test_split(X,\n",
    "                                                    y,\n",
    "                                                    test_size=0.1)\n",
    "\n",
    "X_train.shape, y_train.shape"
   ]
  },
  {
   "cell_type": "code",
   "execution_count": 4,
   "metadata": {},
   "outputs": [],
   "source": [
    "def build_model():\n",
    "    \n",
    "    model = Sequential()\n",
    "    \n",
    "    model.add(Dense(16, activation='relu'))\n",
    "    model.add(Dropout(0.2))\n",
    "    model.add(Dense(16, activation='relu'))\n",
    "    model.add(Dense(1, activation='sigmoid'))\n",
    "    \n",
    "    model.compile(optimizer='rmsprop',\n",
    "                  loss='binary_crossentropy',\n",
    "                  metrics=['accuracy'])\n",
    "    \n",
    "    return model"
   ]
  },
  {
   "cell_type": "code",
   "execution_count": 5,
   "metadata": {},
   "outputs": [
    {
     "name": "stdout",
     "output_type": "stream",
     "text": [
      "WARNING:tensorflow:From C:\\ProgramData\\Miniconda3\\lib\\site-packages\\tensorflow\\python\\ops\\resource_variable_ops.py:435: colocate_with (from tensorflow.python.framework.ops) is deprecated and will be removed in a future version.\n",
      "Instructions for updating:\n",
      "Colocations handled automatically by placer.\n",
      "WARNING:tensorflow:From C:\\ProgramData\\Miniconda3\\lib\\site-packages\\tensorflow\\python\\keras\\layers\\core.py:143: calling dropout (from tensorflow.python.ops.nn_ops) with keep_prob is deprecated and will be removed in a future version.\n",
      "Instructions for updating:\n",
      "Please use `rate` instead of `keep_prob`. Rate should be set to `rate = 1 - keep_prob`.\n",
      "Train on 512 samples, validate on 57 samples\n",
      "WARNING:tensorflow:From C:\\ProgramData\\Miniconda3\\lib\\site-packages\\tensorflow\\python\\ops\\math_ops.py:3066: to_int32 (from tensorflow.python.ops.math_ops) is deprecated and will be removed in a future version.\n",
      "Instructions for updating:\n",
      "Use tf.cast instead.\n",
      "Epoch 1/10\n",
      "512/512 [==============================] - 1s 1ms/sample - loss: 5.8421 - acc: 0.6289 - val_loss: 4.7547 - val_acc: 0.7018\n",
      "Epoch 2/10\n",
      "512/512 [==============================] - 0s 193us/sample - loss: 5.9592 - acc: 0.6211 - val_loss: 4.7547 - val_acc: 0.7018\n",
      "Epoch 3/10\n",
      "512/512 [==============================] - 0s 230us/sample - loss: 6.2046 - acc: 0.6094 - val_loss: 4.7547 - val_acc: 0.7018\n",
      "Epoch 4/10\n",
      "512/512 [==============================] - 0s 170us/sample - loss: 5.9400 - acc: 0.6172 - val_loss: 4.7547 - val_acc: 0.7018\n",
      "Epoch 5/10\n",
      "512/512 [==============================] - 0s 178us/sample - loss: 5.6048 - acc: 0.6406 - val_loss: 4.7547 - val_acc: 0.7018\n",
      "Epoch 6/10\n",
      "512/512 [==============================] - 0s 152us/sample - loss: 5.6771 - acc: 0.6348 - val_loss: 4.7547 - val_acc: 0.7018\n",
      "Epoch 7/10\n",
      "512/512 [==============================] - 0s 156us/sample - loss: 6.0721 - acc: 0.6113 - val_loss: 4.7547 - val_acc: 0.7018\n",
      "Epoch 8/10\n",
      "512/512 [==============================] - 0s 195us/sample - loss: 5.9470 - acc: 0.6211 - val_loss: 4.7547 - val_acc: 0.7018\n",
      "Epoch 9/10\n",
      "512/512 [==============================] - 0s 188us/sample - loss: 6.0814 - acc: 0.6172 - val_loss: 4.7547 - val_acc: 0.7018\n",
      "Epoch 10/10\n",
      "512/512 [==============================] - 0s 170us/sample - loss: 6.0420 - acc: 0.6191 - val_loss: 4.7547 - val_acc: 0.7018\n"
     ]
    },
    {
     "data": {
      "text/plain": [
       "0.7017543859649122"
      ]
     },
     "execution_count": 5,
     "metadata": {},
     "output_type": "execute_result"
    }
   ],
   "source": [
    "model = build_model()\n",
    "\n",
    "weights_file = 'weights.h5'\n",
    "callback = ModelCheckpoint(weights_file,\n",
    "                           monitor='acc',\n",
    "                           mode='max',\n",
    "                           save_best_only=True)\n",
    "\n",
    "model.fit(X_train, \n",
    "          y_train, \n",
    "          validation_data=[X_test, y_test],\n",
    "          epochs=10,\n",
    "          batch_size=8,\n",
    "          callbacks=[callback])\n",
    "\n",
    "acc = accuracy_score(y_test, model.predict(X_test).flat)\n",
    "acc"
   ]
  },
  {
   "cell_type": "code",
   "execution_count": 6,
   "metadata": {},
   "outputs": [],
   "source": [
    "json_file = 'model.json'\n",
    "model_json = model.to_json()\n",
    "\n",
    "with open(json_file, 'w') as f:\n",
    "    f.write(model_json)"
   ]
  },
  {
   "cell_type": "code",
   "execution_count": 7,
   "metadata": {},
   "outputs": [
    {
     "data": {
      "text/plain": [
       "True"
      ]
     },
     "execution_count": 7,
     "metadata": {},
     "output_type": "execute_result"
    }
   ],
   "source": [
    "with open(json_file, 'r') as f:\n",
    "    loaded_model = model_from_json(f.read())\n",
    "    \n",
    "loaded_model.load_weights('weights.h5')\n",
    "loaded_acc = accuracy_score(y_test, loaded_model.predict(X_test).flat)\n",
    "\n",
    "loaded_acc == acc"
   ]
  }
 ],
 "metadata": {
  "kernelspec": {
   "display_name": "Python 3",
   "language": "python",
   "name": "python3"
  },
  "language_info": {
   "codemirror_mode": {
    "name": "ipython",
    "version": 3
   },
   "file_extension": ".py",
   "mimetype": "text/x-python",
   "name": "python",
   "nbconvert_exporter": "python",
   "pygments_lexer": "ipython3",
   "version": "3.7.3"
  }
 },
 "nbformat": 4,
 "nbformat_minor": 2
}
